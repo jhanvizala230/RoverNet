{
 "cells": [
  {
   "cell_type": "code",
   "execution_count": null,
   "id": "921968f4-daac-4f6f-963c-53045e405873",
   "metadata": {
    "collapsed": true,
    "jupyter": {
     "outputs_hidden": true
    }
   },
   "outputs": [],
   "source": [
    "import detectron2\n",
    "from detectron2.utils.logger import setup_logger\n",
    "setup_logger()\n",
    "import numpy as np\n",
    "import os, json, cv2, random\n",
    "from detectron2.utils.visualizer import Visualizer\n",
    "from detectron2.data import MetadataCatalog, DatasetCatalog, build_detection_train_loader\n",
    "from detectron2.data.datasets import register_coco_instances\n",
    "import matplotlib.pyplot as plt \n"
   ]
  },
  {
   "cell_type": "code",
   "execution_count": null,
   "id": "a12e1942-9c17-4bd4-916c-bed594c9c1c1",
   "metadata": {
    "collapsed": true,
    "jupyter": {
     "outputs_hidden": true
    }
   },
   "outputs": [],
   "source": [
    "image_folder = 'D:/masters_final_project/projects_codes/detectron2/combine_dataset/final_dataset/train/images'\n",
    "val_folder = 'D:/masters_final_project/projects_codes/detectron2/combine_dataset/final_dataset/val/images'\n",
    "test_folder =  'D:/masters_final_project/projects_codes/detectron2/combine_dataset/final_dataset/test/images'\n",
    "\n",
    "train_json = \"D:/masters_final_project/projects_codes/detectron2/instance_coco_annotations_train.json\"\n",
    "val_json = \"D:/masters_final_project/projects_codes/detectron2/instance_coco_annotations_val.json\" \n",
    "test_json = \"D:/masters_final_project/projects_codes/detectron2/instance_coco_annotations_test.json\""
   ]
  },
  {
   "cell_type": "code",
   "execution_count": null,
   "id": "3d1a83c2-edf1-423f-b945-9ef57c1d43d6",
   "metadata": {
    "collapsed": true,
    "jupyter": {
     "outputs_hidden": true
    }
   },
   "outputs": [],
   "source": [
    "s5_mars_image_folder = 'D:/masters_final_project/projects_codes/detectron2/combine_dataset/s5_mars/train/images'\n",
    "ai4mars_image_folder = 'D:/masters_final_project/projects_codes/detectron2/combine_dataset/ai4mars/train/images'\n",
    "marsv2_image_folder = 'D:/masters_final_project/projects_codes/detectron2/combine_dataset/marsv2/train/images'\n"
   ]
  },
  {
   "cell_type": "code",
   "execution_count": null,
   "id": "c7fd47fe-8adc-42ba-bd3d-9821a622de12",
   "metadata": {
    "collapsed": true,
    "jupyter": {
     "outputs_hidden": true
    }
   },
   "outputs": [],
   "source": [
    "register_coco_instances(\"terrain_s5mars\", {}, train_json, s5_mars_image_folder)\n",
    "register_coco_instances(\"terrain_ai4mars\", {}, train_json, ai4mars_image_folder)\n",
    "register_coco_instances(\"terrain_marsv2\", {}, train_json, marsv2_image_folder)"
   ]
  },
  {
   "cell_type": "code",
   "execution_count": null,
   "id": "a5fdd75c-3fbc-432f-bf80-d9afd6d1e126",
   "metadata": {
    "collapsed": true,
    "jupyter": {
     "outputs_hidden": true
    }
   },
   "outputs": [],
   "source": [
    "metadata = MetadataCatalog.get(\"terrain_ai4mars\")\n",
    "print(metadata)"
   ]
  },
  {
   "cell_type": "code",
   "execution_count": null,
   "id": "954744be-b4dc-4017-a8fd-36ab8846f205",
   "metadata": {},
   "outputs": [],
   "source": [
    "\n",
    "# Output directory to save the visualizations\n",
    "# for d in dataset_dicts:\n",
    "#     print(d)\n",
    "#     break\n",
    "def display_dataset(dataset_dicts,output_dir,metadata,category_id):\n",
    "    \n",
    "    metadata.thing_font_size = 30  \n",
    "    for d in random.sample(dataset_dicts,30):\n",
    "        values = [ann.get(\"category_id\") for ann in d['annotations']]\n",
    "        if category_id in values: \n",
    "            img = cv2.imread(d[\"file_name\"])\n",
    "            if img is not None:\n",
    "                print(values)\n",
    "                print(\"filename : \",d[\"file_name\"])\n",
    "                print(\"category_id:\",category_id)\n",
    "                filename =  d[\"file_name\"].split(\"\\\\\")[-1].replace(\".jpg\",\"\")\n",
    "                v = Visualizer(img[:, :, ::-1], metadata=metadata, scale=1.0)\n",
    "                print(v)\n",
    "                # annotations_to_highlight = [ann for ann in d['annotations'] if ann[\"category_id\"] == category_id]\n",
    "                # print(annotations_to_highlight)\n",
    "                out = v.draw_dataset_dict(d)\n",
    "\n",
    "                # out = v.draw_dataset_dict(d)\n",
    "                plt.imshow(out.get_image()[:, :, ::-1]) \n",
    "                plt.show() \n",
    "                # Save the visualization\n",
    "                output_file = os.path.join(output_dir, f\"{filename}_{category_id}_annotations.jpg\")\n",
    "                print(output_file)\n",
    "                cv2.imwrite(output_file, out.get_image()[:, :, ::-1])\n",
    "                break\n",
    "        \n",
    "    # Display a message indicating the visualizations have been saved\n",
    "    print(\"Visualizations saved to:\", output_dir)"
   ]
  },
  {
   "cell_type": "code",
   "execution_count": null,
   "id": "efd0d3bf-d92b-410d-aa18-a1688aff29aa",
   "metadata": {},
   "outputs": [],
   "source": [
    "metadata = MetadataCatalog.get(\"terrain_s5mars\").set(thing_classes=[\"sky\",\"ridge\",\"soil\",\"sand\",\"bedrock\",\"rock\",\"rover\",\"trace\",\"hole\"])\n",
    "print(metadata)\n",
    "dataset_dicts = DatasetCatalog.get('terrain_s5mars')\n",
    "output_dir = \"D:/masters_final_project/projects_codes/detectron2/instance_segmentation/visualize_dataset/s5_mars\"\n",
    "os.makedirs(output_dir, exist_ok=True)\n",
    "category_ids  = [0,1,2,3,4,5,6,7,8]\n",
    "for id in category_ids : display_dataset(dataset_dicts,output_dir,metadata,id)\n"
   ]
  },
  {
   "cell_type": "code",
   "execution_count": null,
   "id": "e61b53c2-c88b-4b40-b7da-16fb12137d62",
   "metadata": {},
   "outputs": [],
   "source": [
    "metadata = MetadataCatalog.get(\"terrain_ai4mars\")\n",
    "print(metadata)\n",
    "\n",
    "metadata = MetadataCatalog.get(\"terrain_ai4mars\").set(thing_classes=[\"sky\",\"ridge\",\"soil\",\"sand\",\"bedrock\",\"rock\",\"rover\",\"trace\",\"hole\"])\n",
    "print(metadata)\n",
    "dataset_dicts = DatasetCatalog.get('terrain_ai4mars')\n",
    "output_dir = \"D:/masters_final_project/projects_codes/detectron2/instance_segmentation/visualize_dataset/ai4mars\"\n",
    "os.makedirs(output_dir, exist_ok=True)\n",
    "category_ids  = [0,1,2,3,4,5,6,7,8,9,255]\n",
    "for id in category_ids : display_dataset(dataset_dicts,output_dir,metadata,id)"
   ]
  },
  {
   "cell_type": "code",
   "execution_count": null,
   "id": "ad57dda2-1bcd-43b6-b90b-54aed15c6486",
   "metadata": {
    "collapsed": true,
    "jupyter": {
     "outputs_hidden": true
    }
   },
   "outputs": [],
   "source": [
    "metadata = MetadataCatalog.get(\"terrain_marsv2\").set(thing_classes=[\"sky\",\"ridge\",\"soil\",\"sand\",\"bedrock\",\"rock\",\"rover\",\"trace\",\"hole\"])\n",
    "print(metadata)\n",
    "dataset_dicts = DatasetCatalog.get('terrain_marsv2')\n",
    "output_dir = \"D:/masters_final_project/projects_codes/detectron2/instance_segmentation/visualize_dataset/marsv2\"\n",
    "os.makedirs(output_dir, exist_ok=True)\n",
    "category_ids  = [5,255]\n",
    "for id in category_ids : display_dataset(dataset_dicts,output_dir,metadata,id)"
   ]
  },
  {
   "cell_type": "code",
   "execution_count": null,
   "id": "97095722-7bb0-4899-9a24-014b1fdcc811",
   "metadata": {
    "collapsed": true,
    "jupyter": {
     "outputs_hidden": true
    }
   },
   "outputs": [],
   "source": []
  }
 ],
 "metadata": {
  "kernelspec": {
   "display_name": "Python 3 (ipykernel)",
   "language": "python",
   "name": "python3"
  },
  "language_info": {
   "codemirror_mode": {
    "name": "ipython",
    "version": 3
   },
   "file_extension": ".py",
   "mimetype": "text/x-python",
   "name": "python",
   "nbconvert_exporter": "python",
   "pygments_lexer": "ipython3",
   "version": "3.9.19"
  }
 },
 "nbformat": 4,
 "nbformat_minor": 5
}
