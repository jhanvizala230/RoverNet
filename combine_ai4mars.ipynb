{
 "cells": [
  {
   "cell_type": "markdown",
   "id": "88d65637",
   "metadata": {},
   "source": [
    "## Edit and combine ai4mars "
   ]
  },
  {
   "cell_type": "code",
   "execution_count": null,
   "id": "634381b6-7605-4e11-a859-cc9e39fa4ae6",
   "metadata": {},
   "outputs": [],
   "source": [
    "import cv2\n",
    "import numpy as np\n",
    "import shutil\n",
    "import os\n",
    "\n",
    "dest_img = 'D:/masters_final_project/projects_codes/detectron2/combine_dataset/ai4mars/images'\n",
    "dest_label = 'D:/masters_final_project/projects_codes/detectron2/combine_dataset/ai4mars/labels'\n",
    "\n",
    "source_img = 'D:/masters_final_project/projects_codes/ai4mars-dataset-merged-0.1/msl/images/edr'\n",
    "source_label = 'D:/masters_final_project/projects_codes/ai4mars-dataset-merged-0.1/msl/labels/train'\n",
    "\n",
    "count_file = 0\n",
    "for filename in os.listdir(source_label):\n",
    "    filepath = os.path.join(source_label, filename)\n",
    "    if os.path.isfile(filepath):\n",
    "        lbl_image = cv2.imread(filepath)\n",
    "        unique, counts = np.unique(lbl_image, return_counts=True)\n",
    "        if unique[-1] == 255:\n",
    "            if np.sum(counts[0:-1])/np.sum(counts) > 0.55:\n",
    "\n",
    "                lbl_image[lbl_image == 3] = 6\n",
    "                lbl_image[lbl_image == 2] = 4\n",
    "                lbl_image[lbl_image == 1] = 5\n",
    "                lbl_image[lbl_image == 0] = 3\n",
    "\n",
    "                cv2.imwrite(os.path.join(dest_label,filename), lbl_image)\n",
    "                \n",
    "                image_filename = filename.replace('.png','.jpg')\n",
    "                image_path = os.path.join(source_img,image_filename)\n",
    "                shutil.copy2(image_path, dest_img)\n",
    "                count_file = count_file + 1\n",
    "                \n",
    "        else:\n",
    "            lbl_image[lbl_image == 3] = 6\n",
    "            lbl_image[lbl_image == 2] = 4\n",
    "            lbl_image[lbl_image == 1] = 5\n",
    "            lbl_image[lbl_image == 0] = 3\n",
    "\n",
    "            cv2.imwrite(os.path.join(dest_label,filename), lbl_image)\n",
    "\n",
    "            image_filename = filename.replace('.png','.jpg')\n",
    "            image_path = os.path.join(source_img,image_filename)\n",
    "            shutil.copy2(image_path, dest_img)\n",
    "\n",
    "            count_file = count_file + 1\n",
    "\n",
    "print(\"Number of Files : \",count_file)"
   ]
  },
  {
   "cell_type": "code",
   "execution_count": null,
   "id": "a5a242cd-b27a-4a5a-9555-140c00065011",
   "metadata": {},
   "outputs": [],
   "source": [
    "def edit_and_copy_ai4mars(source_label,source_img,dest_img,dest_label,count):\n",
    "    for filename in os.listdir(source_label):\n",
    "        filepath = os.path.join(source_label, filename)\n",
    "        if os.path.isfile(filepath):\n",
    "            shutil.move(filepath,dest_label)\n",
    "            image_filepath = os.path.join(source_img, filename.replace('.png','.jpg'))\n",
    "            image = cv2.imread(image_filepath)\n",
    "            gray_image = cv2.cvtColor(image, cv2.COLOR_BGR2GRAY)\n",
    "            cv2.imwrite(os.path.join(dest_img,filename.replace('.png','.jpg')), gray_image)\n",
    "            os.remove(image_filepath)\n",
    "        count = count -1\n",
    "        if count < 0:\n",
    "            break"
   ]
  },
  {
   "cell_type": "code",
   "execution_count": null,
   "id": "d2dff7e3-794b-4071-b66e-7be868f9e999",
   "metadata": {},
   "outputs": [],
   "source": [
    "source_label = 'D:/masters_final_project/projects_codes/detectron2/combine_dataset/ai4mars/labels'\n",
    "source_img = 'D:/masters_final_project/projects_codes/detectron2/combine_dataset/ai4mars/images'\n",
    "\n",
    "dest_img = 'D:/masters_final_project/projects_codes/detectron2/combine_dataset/ai4mars/val/images'\n",
    "dest_label = 'D:/masters_final_project/projects_codes/detectron2/combine_dataset/ai4mars/val/masks'\n",
    "\n",
    "edit_and_copy_ai4mars(source_label,source_img,dest_img,dest_label,1500)"
   ]
  },
  {
   "cell_type": "code",
   "execution_count": null,
   "id": "24c92262-7201-45d5-9e9c-900f3082da10",
   "metadata": {},
   "outputs": [],
   "source": [
    "source_label = 'D:/masters_final_project/projects_codes/detectron2/combine_dataset/ai4mars/labels'\n",
    "source_img = 'D:/masters_final_project/projects_codes/detectron2/combine_dataset/ai4mars/images'\n",
    "\n",
    "dest_img = 'D:/masters_final_project/projects_codes/detectron2/combine_dataset/ai4mars/test/images'\n",
    "dest_label = 'D:/masters_final_project/projects_codes/detectron2/combine_dataset/ai4mars/test/masks'\n",
    "\n",
    "edit_and_copy_ai4mars(source_label,source_img,dest_img,dest_label,1000)"
   ]
  },
  {
   "cell_type": "code",
   "execution_count": null,
   "id": "9a282775-ae98-46aa-9cc0-05647c6e2519",
   "metadata": {},
   "outputs": [],
   "source": [
    "source_label = 'D:/masters_final_project/projects_codes/detectron2/combine_dataset/ai4mars/labels'\n",
    "source_img = 'D:/masters_final_project/projects_codes/detectron2/combine_dataset/ai4mars/images'\n",
    "\n",
    "dest_img = 'D:/masters_final_project/projects_codes/detectron2/combine_dataset/ai4mars/train/images'\n",
    "dest_label = 'D:/masters_final_project/projects_codes/detectron2/combine_dataset/ai4mars/train/masks'\n",
    "\n",
    "edit_and_copy_ai4mars(source_label,source_img,dest_img,dest_label,8000)"
   ]
  }
 ],
 "metadata": {
  "kernelspec": {
   "display_name": "Python 3 (ipykernel)",
   "language": "python",
   "name": "python3"
  },
  "language_info": {
   "codemirror_mode": {
    "name": "ipython",
    "version": 3
   },
   "file_extension": ".py",
   "mimetype": "text/x-python",
   "name": "python",
   "nbconvert_exporter": "python",
   "pygments_lexer": "ipython3",
   "version": "3.11.5"
  }
 },
 "nbformat": 4,
 "nbformat_minor": 5
}
