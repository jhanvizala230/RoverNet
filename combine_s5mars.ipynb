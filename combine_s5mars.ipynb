{
 "cells": [
  {
   "cell_type": "code",
   "execution_count": 1,
   "id": "9f96efa1-6c5c-4021-9b10-8400e05832f2",
   "metadata": {},
   "outputs": [],
   "source": [
    "import os\n",
    "import json\n",
    "import shutil\n",
    "import cv2\n",
    "import numpy as np\n",
    "\n",
    "def copy_files_from_json(json_list_path, rootfolder, destination_folder):\n",
    "    with open(json_list_path, 'r') as file:\n",
    "        json_list = json.load(file)\n",
    "\n",
    "    for filename in json_list:\n",
    "       \n",
    "        images_path = os.path.join(rootfolder, 'images/',filename+'.jpg')\n",
    "        destination_path = os.path.join(destination_folder, 'images/',filename.split('/')[-1]+'.jpg')\n",
    "\n",
    "        # Check if the file exists before copying\n",
    "        if os.path.exists(images_path):\n",
    "            image = cv2.imread(images_path)\n",
    "            gray_image = cv2.cvtColor(image, cv2.COLOR_BGR2GRAY)\n",
    "            cv2.imwrite(destination_path, gray_image)\n",
    "\n",
    "        masks_path = os.path.join(rootfolder, 'labels/',filename+'.png')\n",
    "        destination_path = os.path.join(destination_folder, 'masks/',filename.split('/')[-1]+'.png')\n",
    "\n",
    "        # Check if the file exists before copying\n",
    "        if os.path.exists(masks_path):\n",
    "            masks = cv2.imread(masks_path)\n",
    "            masks[masks==0] = 3\n",
    "            cv2.imwrite(destination_path, masks)\n",
    "        else:\n",
    "            print(f\"File not found: {filename}\")\n",
    "\n"
   ]
  },
  {
   "cell_type": "code",
   "execution_count": 2,
   "id": "4f34186b-c026-4c94-ba84-43f49bc8a381",
   "metadata": {},
   "outputs": [],
   "source": [
    "json_list_path = \"D:/masters_final_project/projects_codes/S5Mars_data/split/train.json\"\n",
    "rootfolder = \"D:/masters_final_project/projects_codes/S5Mars_data\"\n",
    "destination_folder = \"D:/masters_final_project/projects_codes/detectron2/combine_dataset/s5_mars/train\"\n",
    "copy_files_from_json(json_list_path, rootfolder, destination_folder)"
   ]
  },
  {
   "cell_type": "code",
   "execution_count": 3,
   "id": "778dae96-4deb-4b29-9b61-0936473ece57",
   "metadata": {},
   "outputs": [],
   "source": [
    "json_list_path = \"D:/masters_final_project/projects_codes/S5Mars_data/split/val.json\"\n",
    "rootfolder = \"D:/masters_final_project/projects_codes/S5Mars_data\"\n",
    "destination_folder = \"D:/masters_final_project/projects_codes/detectron2/combine_dataset/s5_mars/val\"\n",
    "copy_files_from_json(json_list_path, rootfolder, destination_folder)"
   ]
  },
  {
   "cell_type": "code",
   "execution_count": 4,
   "id": "f78629e0-fc0c-4a41-9c7b-dec48b961c98",
   "metadata": {},
   "outputs": [],
   "source": [
    "json_list_path = \"D:/masters_final_project/projects_codes/S5Mars_data/split/test.json\"\n",
    "rootfolder = \"D:/masters_final_project/projects_codes/S5Mars_data\"\n",
    "destination_folder = \"D:/masters_final_project/projects_codes/detectron2/combine_dataset/s5_mars/test\"\n",
    "copy_files_from_json(json_list_path, rootfolder, destination_folder)"
   ]
  },
  {
   "cell_type": "code",
   "execution_count": null,
   "id": "616fb6c4-5d36-442d-9b32-2c1887f8bf5f",
   "metadata": {},
   "outputs": [],
   "source": []
  }
 ],
 "metadata": {
  "kernelspec": {
   "display_name": "python_kernel2_detect",
   "language": "python",
   "name": "detectron2"
  },
  "language_info": {
   "codemirror_mode": {
    "name": "ipython",
    "version": 3
   },
   "file_extension": ".py",
   "mimetype": "text/x-python",
   "name": "python",
   "nbconvert_exporter": "python",
   "pygments_lexer": "ipython3",
   "version": "3.11.5"
  }
 },
 "nbformat": 4,
 "nbformat_minor": 5
}
