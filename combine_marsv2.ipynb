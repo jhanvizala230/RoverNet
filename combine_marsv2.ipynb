{
 "cells": [
  {
   "cell_type": "code",
   "execution_count": 1,
   "id": "e027197e-9f8f-4a9c-abc4-d6c4b3e8a4cc",
   "metadata": {},
   "outputs": [
    {
     "name": "stdout",
     "output_type": "stream",
     "text": [
      "Unique pixel values: [  0 255] [496454 289978]\n",
      "Color: [0 0 0]\n",
      "Color: [  0 255 255]\n"
     ]
    }
   ],
   "source": [
    "import cv2\n",
    "import numpy as np\n",
    "import shutil\n",
    "import os\n",
    "\n",
    "image = cv2.imread(\"D:/masters_final_project/projects_codes/MarsData-MarsData-V2/label/train/train/332_0332MR0013440010301049E01_DXXX_tup.png\")\n",
    "unique, counts = np.unique(image, return_counts=True)\n",
    "print(\"Unique pixel values:\", unique,counts)\n",
    "binary_image_flat = image.reshape(-1, image.shape[-1])\n",
    "\n",
    "unique_colors = np.unique(binary_image_flat, axis=0)\n",
    "for color in unique_colors:\n",
    "    print(\"Color:\", color)\n",
    "\n",
    "color1 = unique_colors[0] # 0 0 0\n",
    "color2 = unique_colors[1] # 0 255 255\n",
    "new_color1 = np.array([255, 255, 255])  \n",
    "new_color2 = np.array([6, 6, 6]) \n",
    "# Iterate over files in the directory\n",
    "\n",
    "def edit_and_copy_marsv2(source_label,source_img,dest_img,dest_label):\n",
    "    for filename in os.listdir(source_label):\n",
    "        filepath = os.path.join(source_label, filename)\n",
    "        if os.path.isfile(filepath):\n",
    "\n",
    "            mask = cv2.imread(filepath)\n",
    "            \n",
    "            mask = np.where((mask == color2).all(axis=-1)[..., np.newaxis], new_color2, mask)\n",
    "            mask = np.where((mask == color1).all(axis=-1)[..., np.newaxis], new_color1, mask)\n",
    "\n",
    "            label_file = os.path.join(dest_label,filename)\n",
    "            cv2.imwrite(label_file, mask)\n",
    "            \n",
    "            image_path = os.path.join(source_img,filename) \n",
    "            image = cv2.imread(image_path)\n",
    "            gray_image = cv2.cvtColor(image, cv2.COLOR_BGR2GRAY)\n",
    "            cv2.imwrite(os.path.join(dest_img,filename.replace('.png','.jpg')), gray_image)\n"
   ]
  },
  {
   "cell_type": "code",
   "execution_count": 2,
   "id": "a76f7ba3-b168-488f-9db1-a2ff78902ab4",
   "metadata": {},
   "outputs": [],
   "source": [
    "source_label = 'D:/masters_final_project/projects_codes/MarsData-MarsData-V2/label/train/train'\n",
    "source_img = 'D:/masters_final_project/projects_codes/MarsData-MarsData-V2/img/train/train'\n",
    "\n",
    "dest_img = 'D:/masters_final_project/projects_codes/detectron2/combine_dataset/marsv2/train/images'\n",
    "dest_label = 'D:/masters_final_project/projects_codes/detectron2/combine_dataset/marsv2/train/masks'\n",
    "\n",
    "edit_and_copy_marsv2(source_label,source_img,dest_img,dest_label)"
   ]
  },
  {
   "cell_type": "code",
   "execution_count": 3,
   "id": "f0a196e6-8c11-487c-94cf-932a095b0663",
   "metadata": {},
   "outputs": [],
   "source": [
    "source_label = 'D:/masters_final_project/projects_codes/MarsData-MarsData-V2/label/test/test'\n",
    "source_img = 'D:/masters_final_project/projects_codes/MarsData-MarsData-V2/img/test/test'\n",
    "\n",
    "dest_img = 'D:/masters_final_project/projects_codes/detectron2/combine_dataset/marsv2/test/images'\n",
    "dest_label = 'D:/masters_final_project/projects_codes/detectron2/combine_dataset/marsv2/test/masks'\n",
    "\n",
    "edit_and_copy_marsv2(source_label,source_img,dest_img,dest_label)"
   ]
  },
  {
   "cell_type": "code",
   "execution_count": 4,
   "id": "d67e45c5-71ae-4824-8606-1089dbea17ff",
   "metadata": {},
   "outputs": [],
   "source": [
    "source_label = 'D:/masters_final_project/projects_codes/MarsData-MarsData-V2/label/val/val'\n",
    "source_img = 'D:/masters_final_project/projects_codes/MarsData-MarsData-V2/img/val/val'\n",
    "\n",
    "dest_img = 'D:/masters_final_project/projects_codes/detectron2/combine_dataset/marsv2/val/images'\n",
    "dest_label = 'D:/masters_final_project/projects_codes/detectron2/combine_dataset/marsv2/val/masks'\n",
    "\n",
    "edit_and_copy_marsv2(source_label,source_img,dest_img,dest_label)"
   ]
  }
 ],
 "metadata": {
  "kernelspec": {
   "display_name": "python_kernel2_detect",
   "language": "python",
   "name": "detectron2"
  },
  "language_info": {
   "codemirror_mode": {
    "name": "ipython",
    "version": 3
   },
   "file_extension": ".py",
   "mimetype": "text/x-python",
   "name": "python",
   "nbconvert_exporter": "python",
   "pygments_lexer": "ipython3",
   "version": "3.11.5"
  }
 },
 "nbformat": 4,
 "nbformat_minor": 5
}
